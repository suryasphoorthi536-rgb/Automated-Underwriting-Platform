{
  "nbformat": 4,
  "nbformat_minor": 0,
  "metadata": {
    "colab": {
      "provenance": [],
      "authorship_tag": "ABX9TyPcVRh0rbBWjm1QyY3kOmud",
      "include_colab_link": true
    },
    "kernelspec": {
      "name": "python3",
      "display_name": "Python 3"
    },
    "language_info": {
      "name": "python"
    }
  },
  "cells": [
    {
      "cell_type": "markdown",
      "metadata": {
        "id": "view-in-github",
        "colab_type": "text"
      },
      "source": [
        "<a href=\"https://colab.research.google.com/github/suryasphoorthi536-rgb/Automated-Underwriting-Platform/blob/main/Smart_Claims_Processing_Platform.ipynb\" target=\"_parent\"><img src=\"https://colab.research.google.com/assets/colab-badge.svg\" alt=\"Open In Colab\"/></a>"
      ]
    },
    {
      "cell_type": "code",
      "execution_count": 44,
      "metadata": {
        "colab": {
          "base_uri": "https://localhost:8080/"
        },
        "id": "VyrJT7qSjdOS",
        "outputId": "7b8eb42f-66f5-4d86-abde-d496908096c8"
      },
      "outputs": [
        {
          "output_type": "stream",
          "name": "stdout",
          "text": [
            "Requirement already satisfied: pytesseract in /usr/local/lib/python3.11/dist-packages (0.3.13)\n",
            "Requirement already satisfied: pdf2image in /usr/local/lib/python3.11/dist-packages (1.17.0)\n",
            "Requirement already satisfied: opencv-python in /usr/local/lib/python3.11/dist-packages (4.11.0.86)\n",
            "Requirement already satisfied: transformers in /usr/local/lib/python3.11/dist-packages (4.53.2)\n",
            "Requirement already satisfied: langchain in /usr/local/lib/python3.11/dist-packages (0.3.26)\n",
            "Requirement already satisfied: fastapi in /usr/local/lib/python3.11/dist-packages (0.116.1)\n",
            "Requirement already satisfied: uvicorn in /usr/local/lib/python3.11/dist-packages (0.35.0)\n",
            "Requirement already satisfied: packaging>=21.3 in /usr/local/lib/python3.11/dist-packages (from pytesseract) (25.0)\n",
            "Requirement already satisfied: Pillow>=8.0.0 in /usr/local/lib/python3.11/dist-packages (from pytesseract) (11.2.1)\n",
            "Requirement already satisfied: numpy>=1.21.2 in /usr/local/lib/python3.11/dist-packages (from opencv-python) (2.0.2)\n",
            "Requirement already satisfied: filelock in /usr/local/lib/python3.11/dist-packages (from transformers) (3.18.0)\n",
            "Requirement already satisfied: huggingface-hub<1.0,>=0.30.0 in /usr/local/lib/python3.11/dist-packages (from transformers) (0.33.4)\n",
            "Requirement already satisfied: pyyaml>=5.1 in /usr/local/lib/python3.11/dist-packages (from transformers) (6.0.2)\n",
            "Requirement already satisfied: regex!=2019.12.17 in /usr/local/lib/python3.11/dist-packages (from transformers) (2024.11.6)\n",
            "Requirement already satisfied: requests in /usr/local/lib/python3.11/dist-packages (from transformers) (2.32.3)\n",
            "Requirement already satisfied: tokenizers<0.22,>=0.21 in /usr/local/lib/python3.11/dist-packages (from transformers) (0.21.2)\n",
            "Requirement already satisfied: safetensors>=0.4.3 in /usr/local/lib/python3.11/dist-packages (from transformers) (0.5.3)\n",
            "Requirement already satisfied: tqdm>=4.27 in /usr/local/lib/python3.11/dist-packages (from transformers) (4.67.1)\n",
            "Requirement already satisfied: langchain-core<1.0.0,>=0.3.66 in /usr/local/lib/python3.11/dist-packages (from langchain) (0.3.69)\n",
            "Requirement already satisfied: langchain-text-splitters<1.0.0,>=0.3.8 in /usr/local/lib/python3.11/dist-packages (from langchain) (0.3.8)\n",
            "Requirement already satisfied: langsmith>=0.1.17 in /usr/local/lib/python3.11/dist-packages (from langchain) (0.4.6)\n",
            "Requirement already satisfied: pydantic<3.0.0,>=2.7.4 in /usr/local/lib/python3.11/dist-packages (from langchain) (2.11.7)\n",
            "Requirement already satisfied: SQLAlchemy<3,>=1.4 in /usr/local/lib/python3.11/dist-packages (from langchain) (2.0.41)\n",
            "Requirement already satisfied: starlette<0.48.0,>=0.40.0 in /usr/local/lib/python3.11/dist-packages (from fastapi) (0.47.1)\n",
            "Requirement already satisfied: typing-extensions>=4.8.0 in /usr/local/lib/python3.11/dist-packages (from fastapi) (4.14.1)\n",
            "Requirement already satisfied: click>=7.0 in /usr/local/lib/python3.11/dist-packages (from uvicorn) (8.2.1)\n",
            "Requirement already satisfied: h11>=0.8 in /usr/local/lib/python3.11/dist-packages (from uvicorn) (0.16.0)\n",
            "Requirement already satisfied: fsspec>=2023.5.0 in /usr/local/lib/python3.11/dist-packages (from huggingface-hub<1.0,>=0.30.0->transformers) (2025.3.2)\n",
            "Requirement already satisfied: hf-xet<2.0.0,>=1.1.2 in /usr/local/lib/python3.11/dist-packages (from huggingface-hub<1.0,>=0.30.0->transformers) (1.1.5)\n",
            "Requirement already satisfied: tenacity!=8.4.0,<10.0.0,>=8.1.0 in /usr/local/lib/python3.11/dist-packages (from langchain-core<1.0.0,>=0.3.66->langchain) (8.5.0)\n",
            "Requirement already satisfied: jsonpatch<2.0,>=1.33 in /usr/local/lib/python3.11/dist-packages (from langchain-core<1.0.0,>=0.3.66->langchain) (1.33)\n",
            "Requirement already satisfied: httpx<1,>=0.23.0 in /usr/local/lib/python3.11/dist-packages (from langsmith>=0.1.17->langchain) (0.28.1)\n",
            "Requirement already satisfied: orjson<4.0.0,>=3.9.14 in /usr/local/lib/python3.11/dist-packages (from langsmith>=0.1.17->langchain) (3.11.0)\n",
            "Requirement already satisfied: requests-toolbelt<2.0.0,>=1.0.0 in /usr/local/lib/python3.11/dist-packages (from langsmith>=0.1.17->langchain) (1.0.0)\n",
            "Requirement already satisfied: zstandard<0.24.0,>=0.23.0 in /usr/local/lib/python3.11/dist-packages (from langsmith>=0.1.17->langchain) (0.23.0)\n",
            "Requirement already satisfied: annotated-types>=0.6.0 in /usr/local/lib/python3.11/dist-packages (from pydantic<3.0.0,>=2.7.4->langchain) (0.7.0)\n",
            "Requirement already satisfied: pydantic-core==2.33.2 in /usr/local/lib/python3.11/dist-packages (from pydantic<3.0.0,>=2.7.4->langchain) (2.33.2)\n",
            "Requirement already satisfied: typing-inspection>=0.4.0 in /usr/local/lib/python3.11/dist-packages (from pydantic<3.0.0,>=2.7.4->langchain) (0.4.1)\n",
            "Requirement already satisfied: charset-normalizer<4,>=2 in /usr/local/lib/python3.11/dist-packages (from requests->transformers) (3.4.2)\n",
            "Requirement already satisfied: idna<4,>=2.5 in /usr/local/lib/python3.11/dist-packages (from requests->transformers) (3.10)\n",
            "Requirement already satisfied: urllib3<3,>=1.21.1 in /usr/local/lib/python3.11/dist-packages (from requests->transformers) (2.4.0)\n",
            "Requirement already satisfied: certifi>=2017.4.17 in /usr/local/lib/python3.11/dist-packages (from requests->transformers) (2025.7.14)\n",
            "Requirement already satisfied: greenlet>=1 in /usr/local/lib/python3.11/dist-packages (from SQLAlchemy<3,>=1.4->langchain) (3.2.3)\n",
            "Requirement already satisfied: anyio<5,>=3.6.2 in /usr/local/lib/python3.11/dist-packages (from starlette<0.48.0,>=0.40.0->fastapi) (4.9.0)\n",
            "Requirement already satisfied: sniffio>=1.1 in /usr/local/lib/python3.11/dist-packages (from anyio<5,>=3.6.2->starlette<0.48.0,>=0.40.0->fastapi) (1.3.1)\n",
            "Requirement already satisfied: httpcore==1.* in /usr/local/lib/python3.11/dist-packages (from httpx<1,>=0.23.0->langsmith>=0.1.17->langchain) (1.0.9)\n",
            "Requirement already satisfied: jsonpointer>=1.9 in /usr/local/lib/python3.11/dist-packages (from jsonpatch<2.0,>=1.33->langchain-core<1.0.0,>=0.3.66->langchain) (3.0.0)\n",
            "Reading package lists... Done\n",
            "Building dependency tree... Done\n",
            "Reading state information... Done\n",
            "tesseract-ocr is already the newest version (4.1.1-2.1build1).\n",
            "0 upgraded, 0 newly installed, 0 to remove and 35 not upgraded.\n"
          ]
        }
      ],
      "source": [
        "!pip install pytesseract pdf2image opencv-python transformers langchain fastapi uvicorn\n",
        "!apt install tesseract-ocr"
      ]
    },
    {
      "cell_type": "code",
      "source": [
        "from google.colab import files\n",
        "# from pdf2image import convert_from_path # Removed since we are processing images\n",
        "import cv2\n",
        "import pytesseract\n",
        "import os\n",
        "import numpy as np # Import numpy\n",
        "\n",
        "# Upload files\n",
        "uploaded = files.upload()\n",
        "\n",
        "# Check if a file was uploaded and get the filename\n",
        "if not uploaded:\n",
        "    print(\"No file uploaded.\")\n",
        "else:\n",
        "    filename = next(iter(uploaded))\n",
        "    print(f\"Processing file: {filename}\")\n",
        "\n",
        "    # Read the image file\n",
        "    # Use cv2.imdecode to read image from bytes\n",
        "    image = cv2.imdecode(np.frombuffer(uploaded[filename], np.uint8), cv2.IMREAD_COLOR)\n",
        "\n",
        "\n",
        "    if image is None:\n",
        "        print(f\"Error: Could not read image file {filename}. Please check the file format.\")\n",
        "    else:\n",
        "        # Preprocess the image\n",
        "        image = cv2.cvtColor(image, cv2.COLOR_RGB2GRAY)\n",
        "        image = cv2.threshold(image, 150, 255, cv2.THRESH_BINARY)[1]\n",
        "\n",
        "        # OCR\n",
        "        text = pytesseract.image_to_string(image)\n",
        "        print(\"\\n--- Extracted Text ---\")\n",
        "        print(text)\n",
        "\n",
        "# If you need to process PDF files in the future, you'll need to install poppler.\n",
        "# You can do this by running the following command in a code cell:\n",
        "# !apt-get install poppler-utils -y"
      ],
      "metadata": {
        "colab": {
          "base_uri": "https://localhost:8080/",
          "height": 110
        },
        "id": "7JyHec0XjloO",
        "outputId": "0d7b8f32-bd41-44b4-fe3a-6a33c551ba38"
      },
      "execution_count": 45,
      "outputs": [
        {
          "output_type": "display_data",
          "data": {
            "text/plain": [
              "<IPython.core.display.HTML object>"
            ],
            "text/html": [
              "\n",
              "     <input type=\"file\" id=\"files-7a9e05cc-5142-4ceb-8f39-ce02521758d7\" name=\"files[]\" multiple disabled\n",
              "        style=\"border:none\" />\n",
              "     <output id=\"result-7a9e05cc-5142-4ceb-8f39-ce02521758d7\">\n",
              "      Upload widget is only available when the cell has been executed in the\n",
              "      current browser session. Please rerun this cell to enable.\n",
              "      </output>\n",
              "      <script>// Copyright 2017 Google LLC\n",
              "//\n",
              "// Licensed under the Apache License, Version 2.0 (the \"License\");\n",
              "// you may not use this file except in compliance with the License.\n",
              "// You may obtain a copy of the License at\n",
              "//\n",
              "//      http://www.apache.org/licenses/LICENSE-2.0\n",
              "//\n",
              "// Unless required by applicable law or agreed to in writing, software\n",
              "// distributed under the License is distributed on an \"AS IS\" BASIS,\n",
              "// WITHOUT WARRANTIES OR CONDITIONS OF ANY KIND, either express or implied.\n",
              "// See the License for the specific language governing permissions and\n",
              "// limitations under the License.\n",
              "\n",
              "/**\n",
              " * @fileoverview Helpers for google.colab Python module.\n",
              " */\n",
              "(function(scope) {\n",
              "function span(text, styleAttributes = {}) {\n",
              "  const element = document.createElement('span');\n",
              "  element.textContent = text;\n",
              "  for (const key of Object.keys(styleAttributes)) {\n",
              "    element.style[key] = styleAttributes[key];\n",
              "  }\n",
              "  return element;\n",
              "}\n",
              "\n",
              "// Max number of bytes which will be uploaded at a time.\n",
              "const MAX_PAYLOAD_SIZE = 100 * 1024;\n",
              "\n",
              "function _uploadFiles(inputId, outputId) {\n",
              "  const steps = uploadFilesStep(inputId, outputId);\n",
              "  const outputElement = document.getElementById(outputId);\n",
              "  // Cache steps on the outputElement to make it available for the next call\n",
              "  // to uploadFilesContinue from Python.\n",
              "  outputElement.steps = steps;\n",
              "\n",
              "  return _uploadFilesContinue(outputId);\n",
              "}\n",
              "\n",
              "// This is roughly an async generator (not supported in the browser yet),\n",
              "// where there are multiple asynchronous steps and the Python side is going\n",
              "// to poll for completion of each step.\n",
              "// This uses a Promise to block the python side on completion of each step,\n",
              "// then passes the result of the previous step as the input to the next step.\n",
              "function _uploadFilesContinue(outputId) {\n",
              "  const outputElement = document.getElementById(outputId);\n",
              "  const steps = outputElement.steps;\n",
              "\n",
              "  const next = steps.next(outputElement.lastPromiseValue);\n",
              "  return Promise.resolve(next.value.promise).then((value) => {\n",
              "    // Cache the last promise value to make it available to the next\n",
              "    // step of the generator.\n",
              "    outputElement.lastPromiseValue = value;\n",
              "    return next.value.response;\n",
              "  });\n",
              "}\n",
              "\n",
              "/**\n",
              " * Generator function which is called between each async step of the upload\n",
              " * process.\n",
              " * @param {string} inputId Element ID of the input file picker element.\n",
              " * @param {string} outputId Element ID of the output display.\n",
              " * @return {!Iterable<!Object>} Iterable of next steps.\n",
              " */\n",
              "function* uploadFilesStep(inputId, outputId) {\n",
              "  const inputElement = document.getElementById(inputId);\n",
              "  inputElement.disabled = false;\n",
              "\n",
              "  const outputElement = document.getElementById(outputId);\n",
              "  outputElement.innerHTML = '';\n",
              "\n",
              "  const pickedPromise = new Promise((resolve) => {\n",
              "    inputElement.addEventListener('change', (e) => {\n",
              "      resolve(e.target.files);\n",
              "    });\n",
              "  });\n",
              "\n",
              "  const cancel = document.createElement('button');\n",
              "  inputElement.parentElement.appendChild(cancel);\n",
              "  cancel.textContent = 'Cancel upload';\n",
              "  const cancelPromise = new Promise((resolve) => {\n",
              "    cancel.onclick = () => {\n",
              "      resolve(null);\n",
              "    };\n",
              "  });\n",
              "\n",
              "  // Wait for the user to pick the files.\n",
              "  const files = yield {\n",
              "    promise: Promise.race([pickedPromise, cancelPromise]),\n",
              "    response: {\n",
              "      action: 'starting',\n",
              "    }\n",
              "  };\n",
              "\n",
              "  cancel.remove();\n",
              "\n",
              "  // Disable the input element since further picks are not allowed.\n",
              "  inputElement.disabled = true;\n",
              "\n",
              "  if (!files) {\n",
              "    return {\n",
              "      response: {\n",
              "        action: 'complete',\n",
              "      }\n",
              "    };\n",
              "  }\n",
              "\n",
              "  for (const file of files) {\n",
              "    const li = document.createElement('li');\n",
              "    li.append(span(file.name, {fontWeight: 'bold'}));\n",
              "    li.append(span(\n",
              "        `(${file.type || 'n/a'}) - ${file.size} bytes, ` +\n",
              "        `last modified: ${\n",
              "            file.lastModifiedDate ? file.lastModifiedDate.toLocaleDateString() :\n",
              "                                    'n/a'} - `));\n",
              "    const percent = span('0% done');\n",
              "    li.appendChild(percent);\n",
              "\n",
              "    outputElement.appendChild(li);\n",
              "\n",
              "    const fileDataPromise = new Promise((resolve) => {\n",
              "      const reader = new FileReader();\n",
              "      reader.onload = (e) => {\n",
              "        resolve(e.target.result);\n",
              "      };\n",
              "      reader.readAsArrayBuffer(file);\n",
              "    });\n",
              "    // Wait for the data to be ready.\n",
              "    let fileData = yield {\n",
              "      promise: fileDataPromise,\n",
              "      response: {\n",
              "        action: 'continue',\n",
              "      }\n",
              "    };\n",
              "\n",
              "    // Use a chunked sending to avoid message size limits. See b/62115660.\n",
              "    let position = 0;\n",
              "    do {\n",
              "      const length = Math.min(fileData.byteLength - position, MAX_PAYLOAD_SIZE);\n",
              "      const chunk = new Uint8Array(fileData, position, length);\n",
              "      position += length;\n",
              "\n",
              "      const base64 = btoa(String.fromCharCode.apply(null, chunk));\n",
              "      yield {\n",
              "        response: {\n",
              "          action: 'append',\n",
              "          file: file.name,\n",
              "          data: base64,\n",
              "        },\n",
              "      };\n",
              "\n",
              "      let percentDone = fileData.byteLength === 0 ?\n",
              "          100 :\n",
              "          Math.round((position / fileData.byteLength) * 100);\n",
              "      percent.textContent = `${percentDone}% done`;\n",
              "\n",
              "    } while (position < fileData.byteLength);\n",
              "  }\n",
              "\n",
              "  // All done.\n",
              "  yield {\n",
              "    response: {\n",
              "      action: 'complete',\n",
              "    }\n",
              "  };\n",
              "}\n",
              "\n",
              "scope.google = scope.google || {};\n",
              "scope.google.colab = scope.google.colab || {};\n",
              "scope.google.colab._files = {\n",
              "  _uploadFiles,\n",
              "  _uploadFilesContinue,\n",
              "};\n",
              "})(self);\n",
              "</script> "
            ]
          },
          "metadata": {}
        },
        {
          "output_type": "stream",
          "name": "stdout",
          "text": [
            "Saving resume.pdf to resume (1).pdf\n",
            "Processing file: resume (1).pdf\n",
            "Error: Could not read image file resume (1).pdf. Please check the file format.\n"
          ]
        }
      ]
    },
    {
      "cell_type": "code",
      "source": [
        "from transformers import pipeline\n",
        "\n",
        "nlp = pipeline(\"ner\", model=\"dslim/bert-base-NER\")\n",
        "entities = nlp(text)\n",
        "\n",
        "for entity in entities:\n",
        "    print(entity)\n"
      ],
      "metadata": {
        "colab": {
          "base_uri": "https://localhost:8080/"
        },
        "id": "PuJDkwMAmXJf",
        "outputId": "b296e1ad-a25e-44e8-b301-301de45d949c"
      },
      "execution_count": 54,
      "outputs": [
        {
          "output_type": "stream",
          "name": "stderr",
          "text": [
            "Some weights of the model checkpoint at dslim/bert-base-NER were not used when initializing BertForTokenClassification: ['bert.pooler.dense.bias', 'bert.pooler.dense.weight']\n",
            "- This IS expected if you are initializing BertForTokenClassification from the checkpoint of a model trained on another task or with another architecture (e.g. initializing a BertForSequenceClassification model from a BertForPreTraining model).\n",
            "- This IS NOT expected if you are initializing BertForTokenClassification from the checkpoint of a model that you expect to be exactly identical (initializing a BertForSequenceClassification model from a BertForSequenceClassification model).\n",
            "Device set to use cpu\n"
          ]
        },
        {
          "output_type": "stream",
          "name": "stdout",
          "text": [
            "{'entity': 'B-ORG', 'score': np.float32(0.9980804), 'index': 1, 'word': 'Tamil', 'start': 0, 'end': 5}\n",
            "{'entity': 'I-ORG', 'score': np.float32(0.99863535), 'index': 2, 'word': 'Q', 'start': 7, 'end': 8}\n",
            "{'entity': 'I-ORG', 'score': np.float32(0.9967158), 'index': 3, 'word': '##ual', 'start': 8, 'end': 11}\n",
            "{'entity': 'I-ORG', 'score': np.float32(0.99718994), 'index': 4, 'word': '##ities', 'start': 11, 'end': 16}\n",
            "{'entity': 'I-ORG', 'score': np.float32(0.6844323), 'index': 25, 'word': 'Ana', 'start': 130, 'end': 133}\n",
            "{'entity': 'I-ORG', 'score': np.float32(0.5808866), 'index': 26, 'word': '##ly', 'start': 133, 'end': 135}\n",
            "{'entity': 'B-ORG', 'score': np.float32(0.5060131), 'index': 30, 'word': 'IBM', 'start': 151, 'end': 154}\n",
            "{'entity': 'I-MISC', 'score': np.float32(0.36933863), 'index': 31, 'word': '‘', 'start': 155, 'end': 156}\n",
            "{'entity': 'I-MISC', 'score': np.float32(0.75211954), 'index': 32, 'word': 'Skills', 'start': 156, 'end': 162}\n",
            "{'entity': 'I-MISC', 'score': np.float32(0.9083366), 'index': 33, 'word': '##B', 'start': 162, 'end': 163}\n",
            "{'entity': 'I-MISC', 'score': np.float32(0.87546396), 'index': 34, 'word': '##uild', 'start': 163, 'end': 167}\n",
            "{'entity': 'I-MISC', 'score': np.float32(0.69893897), 'index': 35, 'word': 'Winter', 'start': 168, 'end': 174}\n",
            "{'entity': 'I-MISC', 'score': np.float32(0.985756), 'index': 36, 'word': 'Ce', 'start': 175, 'end': 177}\n",
            "{'entity': 'I-MISC', 'score': np.float32(0.6618943), 'index': 38, 'word': '##ification', 'start': 179, 'end': 188}\n",
            "{'entity': 'I-MISC', 'score': np.float32(0.8492403), 'index': 39, 'word': 'Program', 'start': 189, 'end': 196}\n",
            "{'entity': 'B-MISC', 'score': np.float32(0.5438893), 'index': 55, 'word': 'IBM', 'start': 258, 'end': 261}\n",
            "{'entity': 'I-MISC', 'score': np.float32(0.7200935), 'index': 56, 'word': 'Skills', 'start': 262, 'end': 268}\n",
            "{'entity': 'I-MISC', 'score': np.float32(0.85209864), 'index': 57, 'word': '##B', 'start': 268, 'end': 269}\n",
            "{'entity': 'I-MISC', 'score': np.float32(0.8384132), 'index': 58, 'word': '##uild', 'start': 269, 'end': 273}\n",
            "{'entity': 'I-MISC', 'score': np.float32(0.8431183), 'index': 59, 'word': 'Winter', 'start': 274, 'end': 280}\n",
            "{'entity': 'I-MISC', 'score': np.float32(0.9785807), 'index': 60, 'word': 'Ce', 'start': 281, 'end': 283}\n",
            "{'entity': 'I-MISC', 'score': np.float32(0.7941365), 'index': 62, 'word': '##ification', 'start': 285, 'end': 294}\n",
            "{'entity': 'I-MISC', 'score': np.float32(0.8114554), 'index': 63, 'word': 'Program', 'start': 295, 'end': 302}\n"
          ]
        }
      ]
    },
    {
      "cell_type": "code",
      "metadata": {
        "colab": {
          "base_uri": "https://localhost:8080/"
        },
        "id": "aa0df44f",
        "outputId": "7d09b472-f7b8-455c-9820-ae0074de4af8"
      },
      "source": [
        "from sklearn.ensemble import RandomForestClassifier\n",
        "\n",
        "# Instantiate a RandomForestClassifier object\n",
        "# Using random_state for reproducibility\n",
        "model = RandomForestClassifier(random_state=42)\n",
        "\n",
        "# Train the model using the .fit() method on your training data\n",
        "model.fit(X_train, y_train)\n",
        "\n",
        "print(\"Random Forest Classifier model trained successfully.\")"
      ],
      "execution_count": 61,
      "outputs": [
        {
          "output_type": "stream",
          "name": "stdout",
          "text": [
            "Random Forest Classifier model trained successfully.\n"
          ]
        }
      ]
    },
    {
      "cell_type": "code",
      "source": [
        "def route_claim(claim_data):\n",
        "    if claim_data[\"type\"] == \"Auto\":\n",
        "        return \"Routing to Auto Dept\"\n",
        "    elif claim_data[\"type\"] == \"Health\":\n",
        "        return \"Routing to Health Dept\"\n",
        "    return \"General Claims Queue\"\n"
      ],
      "metadata": {
        "id": "nqKbVIuRniCU"
      },
      "execution_count": 65,
      "outputs": []
    },
    {
      "cell_type": "markdown",
      "metadata": {
        "id": "eeed0c93"
      },
      "source": [
        "**Reasoning**:\n",
        "Create a sample list of dictionaries to simulate claim data with claim types.\n",
        "\n"
      ]
    },
    {
      "cell_type": "code",
      "source": [
        "from fastapi import FastAPI\n",
        "from pydantic import BaseModel\n",
        "\n",
        "app = FastAPI()\n",
        "\n",
        "class ClaimRequest(BaseModel):\n",
        "    text: str\n",
        "\n",
        "@app.post(\"/process_claim/\")\n",
        "def process_claim(request: ClaimRequest):\n",
        "    # process and route logic here\n",
        "    return {\"status\": \"processed\", \"routing\": route_claim({\"type\": \"Auto\"})}\n"
      ],
      "metadata": {
        "id": "1jnDaTWloLRA"
      },
      "execution_count": 66,
      "outputs": []
    },
    {
      "cell_type": "code",
      "source": [
        "import json\n",
        "\n",
        "with open(\"claim_output.json\", \"w\") as f:\n",
        "    json.dump(output_data, f)"
      ],
      "metadata": {
        "id": "1g88qL8Eoh_s"
      },
      "execution_count": 68,
      "outputs": []
    },
    {
      "cell_type": "code",
      "metadata": {
        "colab": {
          "base_uri": "https://localhost:8080/"
        },
        "id": "15f5e520",
        "outputId": "d265d369-4f69-469b-dfa5-60fce3987eba"
      },
      "source": [
        "!pip install nest_asyncio pyngrok uvicorn\n",
        "\n",
        "import nest_asyncio\n",
        "from pyngrok import ngrok\n",
        "import uvicorn\n",
        "import threading\n",
        "\n",
        "# Apply nest_asyncio to allow multiple event loops\n",
        "nest_asyncio.apply()\n",
        "\n",
        "# Terminate any active ngrok tunnels\n",
        "print(\"Terminating active ngrok tunnels...\")\n",
        "ngrok.kill()\n",
        "\n",
        "# Set up ngrok tunnel\n",
        "NGROK_AUTH_TOKEN = \"YOUR_AUTH_TOKEN\" # Replace with your ngrok auth token\n",
        "# You can get an auth token from https://dashboard.ngrok.com/get-started/your-authtoken\n",
        "# Add it to Colab secrets or replace directly for demonstration\n",
        "\n",
        "if NGROK_AUTH_TOKEN == \"YOUR_AUTH_TOKEN\":\n",
        "    print(\"Please replace 'YOUR_AUTH_TOKEN' with your actual ngrok authentication token.\")\n",
        "else:\n",
        "    print(\"Setting up ngrok tunnel...\")\n",
        "    try:\n",
        "        # Set ngrok auth token\n",
        "        ngrok.set_auth_token(NGROK_AUTH_TOKEN)\n",
        "        # Open a tunnel to the default uvicorn port (8000)\n",
        "        public_url = ngrok.connect(8000).public_url\n",
        "        print(f\"FastAPI app available at: {public_url}\")\n",
        "\n",
        "        # Run uvicorn in a separate thread\n",
        "        def run_uvicorn():\n",
        "            uvicorn.run(app, host=\"0.0.0.0\", port=8000)\n",
        "\n",
        "        uvicorn_thread = threading.Thread(target=run_uvicorn)\n",
        "        uvicorn_thread.daemon = True\n",
        "        uvicorn_thread.start()\n",
        "\n",
        "    except Exception as e:\n",
        "        print(f\"An error occurred setting up ngrok or running uvicorn: {e}\")"
      ],
      "execution_count": 32,
      "outputs": [
        {
          "output_type": "stream",
          "name": "stdout",
          "text": [
            "Requirement already satisfied: nest_asyncio in /usr/local/lib/python3.11/dist-packages (1.6.0)\n",
            "Collecting pyngrok\n",
            "  Downloading pyngrok-7.2.12-py3-none-any.whl.metadata (9.4 kB)\n",
            "Requirement already satisfied: uvicorn in /usr/local/lib/python3.11/dist-packages (0.35.0)\n",
            "Requirement already satisfied: PyYAML>=5.1 in /usr/local/lib/python3.11/dist-packages (from pyngrok) (6.0.2)\n",
            "Requirement already satisfied: click>=7.0 in /usr/local/lib/python3.11/dist-packages (from uvicorn) (8.2.1)\n",
            "Requirement already satisfied: h11>=0.8 in /usr/local/lib/python3.11/dist-packages (from uvicorn) (0.16.0)\n",
            "Downloading pyngrok-7.2.12-py3-none-any.whl (26 kB)\n",
            "Installing collected packages: pyngrok\n",
            "Successfully installed pyngrok-7.2.12\n",
            "Terminating active ngrok tunnels...\n",
            "Please replace 'YOUR_AUTH_TOKEN' with your actual ngrok authentication token.\n"
          ]
        }
      ]
    },
    {
      "cell_type": "code",
      "source": [
        "import os\n",
        "\n",
        "# Create directories\n",
        "os.makedirs(\"/content/claims_ai_project/data\", exist_ok=True)\n",
        "os.makedirs(\"/content/claims_ai_project/models\", exist_ok=True)\n",
        "os.makedirs(\"/content/claims_ai_project/notebooks\", exist_ok=True)\n",
        "os.makedirs(\"/content/claims_ai_project/outputs\", exist_ok=True)\n"
      ],
      "metadata": {
        "id": "cb-BaGhtsnx2"
      },
      "execution_count": 73,
      "outputs": []
    },
    {
      "cell_type": "code",
      "metadata": {
        "colab": {
          "base_uri": "https://localhost:8080/",
          "height": 362
        },
        "id": "082fa9ab",
        "outputId": "8bfafc79-922b-4b6a-c71c-eed0af1bd242"
      },
      "source": [
        "# Check if output_data exists and is not empty\n",
        "if 'output_data' in locals() and output_data:\n",
        "    print(\"output_data exists and contains data.\")\n",
        "    # Display the contents of output_data\n",
        "    display(output_data)\n",
        "else:\n",
        "    print(\"output_data is not available or empty. Please run the previous subtask 'Structure output data'.\")\n"
      ],
      "execution_count": 34,
      "outputs": [
        {
          "output_type": "stream",
          "name": "stdout",
          "text": [
            "output_data exists and contains data.\n"
          ]
        },
        {
          "output_type": "display_data",
          "data": {
            "text/plain": [
              "[{'claim_info': 'Car accident on main street',\n",
              "  'claim_type': 'Auto',\n",
              "  'routing': 'Routing to Auto Dept'},\n",
              " {'claim_info': 'Doctor visit for checkup',\n",
              "  'claim_type': 'Health',\n",
              "  'routing': 'Routing to Health Dept'},\n",
              " {'claim_info': 'Water damage in basement',\n",
              "  'claim_type': 'Property',\n",
              "  'routing': 'General Claims Queue'},\n",
              " {'claim_info': 'Stolen car reported',\n",
              "  'claim_type': 'Auto',\n",
              "  'routing': 'Routing to Auto Dept'},\n",
              " {'claim_info': 'Emergency room visit',\n",
              "  'claim_type': 'Health',\n",
              "  'routing': 'Routing to Health Dept'},\n",
              " {'claim_info': 'Fire damage in garage',\n",
              "  'claim_type': 'Property',\n",
              "  'routing': 'General Claims Queue'}]"
            ]
          },
          "metadata": {}
        }
      ]
    }
  ]
}