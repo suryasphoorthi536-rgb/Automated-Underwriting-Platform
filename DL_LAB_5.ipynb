{
  "nbformat": 4,
  "nbformat_minor": 0,
  "metadata": {
    "colab": {
      "provenance": [],
      "authorship_tag": "ABX9TyO2KH8dSoKT1WQUOMAoHAV0",
      "include_colab_link": true
    },
    "kernelspec": {
      "name": "python3",
      "display_name": "Python 3"
    },
    "language_info": {
      "name": "python"
    }
  },
  "cells": [
    {
      "cell_type": "markdown",
      "metadata": {
        "id": "view-in-github",
        "colab_type": "text"
      },
      "source": [
        "<a href=\"https://colab.research.google.com/github/suryasphoorthi536-rgb/Automated-Underwriting-Platform/blob/main/DL_LAB_5.ipynb\" target=\"_parent\"><img src=\"https://colab.research.google.com/assets/colab-badge.svg\" alt=\"Open In Colab\"/></a>"
      ]
    },
    {
      "cell_type": "code",
      "execution_count": 1,
      "metadata": {
        "colab": {
          "base_uri": "https://localhost:8080/"
        },
        "id": "vEaTFyEsQF6U",
        "outputId": "74b23ca6-f10c-4bba-b7d3-36abfd8b6792"
      },
      "outputs": [
        {
          "output_type": "stream",
          "name": "stdout",
          "text": [
            "Downloading data from https://storage.googleapis.com/tensorflow/tf-keras-datasets/mnist.npz\n",
            "\u001b[1m11490434/11490434\u001b[0m \u001b[32m━━━━━━━━━━━━━━━━━━━━\u001b[0m\u001b[37m\u001b[0m \u001b[1m0s\u001b[0m 0us/step\n"
          ]
        },
        {
          "output_type": "stream",
          "name": "stderr",
          "text": [
            "/usr/local/lib/python3.12/dist-packages/keras/src/layers/core/dense.py:93: UserWarning: Do not pass an `input_shape`/`input_dim` argument to a layer. When using Sequential models, prefer using an `Input(shape)` object as the first layer in the model instead.\n",
            "  super().__init__(activity_regularizer=activity_regularizer, **kwargs)\n"
          ]
        },
        {
          "output_type": "stream",
          "name": "stdout",
          "text": [
            "Epoch 1/10\n",
            "422/422 - 3s - 8ms/step - accuracy: 0.6272 - loss: 1.4066 - val_accuracy: 0.8690 - val_loss: 0.6470\n",
            "Epoch 2/10\n",
            "422/422 - 2s - 4ms/step - accuracy: 0.8608 - loss: 0.5548 - val_accuracy: 0.9055 - val_loss: 0.3807\n",
            "Epoch 3/10\n",
            "422/422 - 2s - 4ms/step - accuracy: 0.8867 - loss: 0.4148 - val_accuracy: 0.9193 - val_loss: 0.3118\n",
            "Epoch 4/10\n",
            "422/422 - 2s - 4ms/step - accuracy: 0.8975 - loss: 0.3625 - val_accuracy: 0.9243 - val_loss: 0.2790\n",
            "Epoch 5/10\n",
            "422/422 - 2s - 4ms/step - accuracy: 0.9063 - loss: 0.3316 - val_accuracy: 0.9297 - val_loss: 0.2571\n",
            "Epoch 6/10\n",
            "422/422 - 2s - 4ms/step - accuracy: 0.9116 - loss: 0.3098 - val_accuracy: 0.9355 - val_loss: 0.2425\n",
            "Epoch 7/10\n",
            "422/422 - 3s - 6ms/step - accuracy: 0.9162 - loss: 0.2928 - val_accuracy: 0.9382 - val_loss: 0.2323\n",
            "Epoch 8/10\n",
            "422/422 - 2s - 6ms/step - accuracy: 0.9200 - loss: 0.2786 - val_accuracy: 0.9403 - val_loss: 0.2225\n",
            "Epoch 9/10\n",
            "422/422 - 2s - 4ms/step - accuracy: 0.9234 - loss: 0.2665 - val_accuracy: 0.9413 - val_loss: 0.2131\n",
            "Epoch 10/10\n",
            "422/422 - 2s - 4ms/step - accuracy: 0.9267 - loss: 0.2557 - val_accuracy: 0.9435 - val_loss: 0.2041\n",
            "\n",
            "Test accuracy: 0.9336 | Test loss: 0.2344\n",
            "Predictions: [7, 2, 1, 0, 4]\n",
            "True labels: [7, 2, 1, 0, 4]\n"
          ]
        }
      ],
      "source": [
        "from tensorflow import keras\n",
        "from tensorflow.keras import layers\n",
        "\n",
        "(x_train, y_train), (x_test, y_test) = keras.datasets.mnist.load_data()\n",
        "\n",
        "x_train = x_train.reshape(-1, 784).astype(\"float32\") / 255.0\n",
        "x_test  = x_test.reshape(-1, 784).astype(\"float32\") / 255.0\n",
        "\n",
        "y_train = keras.utils.to_categorical(y_train, num_classes=10)\n",
        "y_test  = keras.utils.to_categorical(y_test,  num_classes=10)\n",
        "\n",
        "model = keras.Sequential([\n",
        "    layers.Dense(128, activation='relu', input_shape=(784,)),\n",
        "    layers.Dense(64, activation='relu'),\n",
        "    layers.Dense(10, activation='softmax')\n",
        "])\n",
        "\n",
        "model.compile(\n",
        "    optimizer=keras.optimizers.SGD(learning_rate=0.01),\n",
        "    loss='categorical_crossentropy',\n",
        "    metrics=['accuracy']\n",
        ")\n",
        "\n",
        "history = model.fit(\n",
        "    x_train, y_train,\n",
        "    epochs=10,\n",
        "    batch_size=128,\n",
        "    validation_split=0.1,\n",
        "    verbose=2\n",
        ")\n",
        "\n",
        "test_loss, test_acc = model.evaluate(x_test, y_test, verbose=0)\n",
        "print(f\"\\nTest accuracy: {test_acc:.4f} | Test loss: {test_loss:.4f}\")\n",
        "\n",
        "probs = model.predict(x_test[:5], verbose=0)\n",
        "preds = probs.argmax(axis=1)\n",
        "true  = y_test[:5].argmax(axis=1)\n",
        "\n",
        "print(\"Predictions:\", preds.tolist())\n",
        "print(\"True labels:\", true.tolist())\n"
      ]
    }
  ]
}